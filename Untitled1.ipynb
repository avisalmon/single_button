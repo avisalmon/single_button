{
 "cells": [
  {
   "cell_type": "code",
   "execution_count": 1,
   "id": "add322e3-72ce-4d0a-beec-d92aae86e555",
   "metadata": {},
   "outputs": [],
   "source": [
    "a = 3"
   ]
  },
  {
   "cell_type": "code",
   "execution_count": 2,
   "id": "e66a8159-c15c-4c77-8ece-cda32e458818",
   "metadata": {},
   "outputs": [
    {
     "name": "stdout",
     "output_type": "stream",
     "text": [
      "3\n"
     ]
    }
   ],
   "source": [
    "print(a)"
   ]
  },
  {
   "cell_type": "code",
   "execution_count": 3,
   "id": "d7bf3a1c-f87d-4964-a8e2-e33fd3eeb826",
   "metadata": {},
   "outputs": [
    {
     "name": "stdout",
     "output_type": "stream",
     "text": [
      "Hello world\n"
     ]
    }
   ],
   "source": [
    "print('Hello world')"
   ]
  },
  {
   "cell_type": "code",
   "execution_count": 7,
   "id": "318880a6-63d6-4af3-9e26-42d991d064fd",
   "metadata": {},
   "outputs": [],
   "source": [
    "avi = 3"
   ]
  },
  {
   "cell_type": "code",
   "execution_count": 6,
   "id": "b663c096-4866-4e98-9309-8b6ef2d55f3c",
   "metadata": {},
   "outputs": [],
   "source": [
    "name_of_variable = 0"
   ]
  },
  {
   "cell_type": "code",
   "execution_count": 8,
   "id": "16d7c0f6-d67e-46a5-8d7f-e26986e2de0b",
   "metadata": {},
   "outputs": [
    {
     "name": "stdout",
     "output_type": "stream",
     "text": [
      "5050\n"
     ]
    }
   ],
   "source": [
    "sum = 0\n",
    "for n in range(1, 101):\n",
    "    sum = sum + n\n",
    "    # it is the same as sum += n\n",
    "print(sum)"
   ]
  },
  {
   "cell_type": "code",
   "execution_count": 9,
   "id": "dfd40b22-45f8-4f77-8264-5c658934bdcc",
   "metadata": {},
   "outputs": [
    {
     "data": {
      "text/plain": [
       "16"
      ]
     },
     "execution_count": 9,
     "metadata": {},
     "output_type": "execute_result"
    }
   ],
   "source": [
    "4**2"
   ]
  },
  {
   "cell_type": "code",
   "execution_count": null,
   "id": "6f662602-316c-4fe8-9a1b-43198213cf83",
   "metadata": {},
   "outputs": [],
   "source": []
  }
 ],
 "metadata": {
  "kernelspec": {
   "display_name": "Python 3 (ipykernel)",
   "language": "python",
   "name": "python3"
  },
  "language_info": {
   "codemirror_mode": {
    "name": "ipython",
    "version": 3
   },
   "file_extension": ".py",
   "mimetype": "text/x-python",
   "name": "python",
   "nbconvert_exporter": "python",
   "pygments_lexer": "ipython3",
   "version": "3.11.5"
  }
 },
 "nbformat": 4,
 "nbformat_minor": 5
}
