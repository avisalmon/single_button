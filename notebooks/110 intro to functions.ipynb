{
 "cells": [
  {
   "cell_type": "code",
   "execution_count": 2,
   "id": "a205a4c3-99b9-4d21-a5fe-23c954ec19ab",
   "metadata": {},
   "outputs": [],
   "source": [
    "def some_function():\n",
    "    print('Hi I am a function')"
   ]
  },
  {
   "cell_type": "code",
   "execution_count": 3,
   "id": "e1df60cf-0703-4c36-bc49-8b059b87fce6",
   "metadata": {},
   "outputs": [
    {
     "name": "stdout",
     "output_type": "stream",
     "text": [
      "Hi I am a function\n"
     ]
    }
   ],
   "source": [
    "some_function()"
   ]
  },
  {
   "cell_type": "code",
   "execution_count": 4,
   "id": "32a8b37c-54fc-4009-9014-7c9fcf633389",
   "metadata": {},
   "outputs": [],
   "source": [
    "def speak(message):\n",
    "    print('The function: ', message)"
   ]
  },
  {
   "cell_type": "code",
   "execution_count": 5,
   "id": "3a39130b-0de6-470c-81f1-1fd1fcd02e8e",
   "metadata": {},
   "outputs": [
    {
     "name": "stdout",
     "output_type": "stream",
     "text": [
      "The function:  Hi there\n"
     ]
    }
   ],
   "source": [
    "speak('Hi there')"
   ]
  },
  {
   "cell_type": "code",
   "execution_count": 6,
   "id": "a603bf30-066a-46b8-9d6a-962277c93dfd",
   "metadata": {},
   "outputs": [],
   "source": [
    "def add(a, b):\n",
    "    result =  a + b\n",
    "    return result"
   ]
  },
  {
   "cell_type": "code",
   "execution_count": 7,
   "id": "e33d170e-3b11-4610-bac9-2f6fa165bcba",
   "metadata": {},
   "outputs": [],
   "source": [
    "c = add(3,4)"
   ]
  },
  {
   "cell_type": "code",
   "execution_count": 8,
   "id": "9441d6d2-5641-490b-8f96-1f58f79b6eb0",
   "metadata": {},
   "outputs": [
    {
     "name": "stdout",
     "output_type": "stream",
     "text": [
      "7\n"
     ]
    }
   ],
   "source": [
    "print(c)"
   ]
  },
  {
   "cell_type": "code",
   "execution_count": null,
   "id": "56f5592d-7516-4189-b09f-db63b9c326ab",
   "metadata": {},
   "outputs": [],
   "source": []
  }
 ],
 "metadata": {
  "kernelspec": {
   "display_name": "Python 3 (ipykernel)",
   "language": "python",
   "name": "python3"
  },
  "language_info": {
   "codemirror_mode": {
    "name": "ipython",
    "version": 3
   },
   "file_extension": ".py",
   "mimetype": "text/x-python",
   "name": "python",
   "nbconvert_exporter": "python",
   "pygments_lexer": "ipython3",
   "version": "3.11.5"
  }
 },
 "nbformat": 4,
 "nbformat_minor": 5
}
